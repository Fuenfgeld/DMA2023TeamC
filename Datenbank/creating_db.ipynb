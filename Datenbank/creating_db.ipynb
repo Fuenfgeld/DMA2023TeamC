{
  "nbformat": 4,
  "nbformat_minor": 0,
  "metadata": {
    "colab": {
      "provenance": [],
      "authorship_tag": "ABX9TyPPM3uYGzrMoulRW2ktNxSp",
      "include_colab_link": true
    },
    "kernelspec": {
      "name": "python3",
      "display_name": "Python 3"
    },
    "language_info": {
      "name": "python"
    }
  },
  "cells": [
    {
      "cell_type": "markdown",
      "metadata": {
        "id": "view-in-github",
        "colab_type": "text"
      },
      "source": [
        "<a href=\"https://colab.research.google.com/github/Fuenfgeld/DMA2023TeamC/blob/main/Datenbank/creating_db.ipynb\" target=\"_parent\"><img src=\"https://colab.research.google.com/assets/colab-badge.svg\" alt=\"Open In Colab\"/></a>"
      ]
    },
    {
      "cell_type": "markdown",
      "source": [
        "# Creating a Database\n",
        "and importing the data from .csv files"
      ],
      "metadata": {
        "id": "3mgbOmOnznuR"
      }
    },
    {
      "cell_type": "markdown",
      "source": [
        "First, reset all possible variables"
      ],
      "metadata": {
        "id": "Tg4ylmaGz-BW"
      }
    },
    {
      "cell_type": "code",
      "source": [
        "%reset -f"
      ],
      "metadata": {
        "id": "0Ow4nOCu0B5A"
      },
      "execution_count": null,
      "outputs": []
    },
    {
      "cell_type": "markdown",
      "source": [
        "## Libraries"
      ],
      "metadata": {
        "id": "Y4Ymrdu2W9uR"
      }
    },
    {
      "cell_type": "markdown",
      "source": [
        "### Import the libraries"
      ],
      "metadata": {
        "id": "OyznwL3oXFHs"
      }
    },
    {
      "cell_type": "code",
      "execution_count": null,
      "metadata": {
        "id": "LbHoCjKaAJ8I"
      },
      "outputs": [],
      "source": [
        "import csv\n",
        "import sqlite3\n",
        "from sqlite3 import Error\n",
        "import pandas as pd"
      ]
    },
    {
      "cell_type": "markdown",
      "source": [
        "### Check the versions of the libraries"
      ],
      "metadata": {
        "id": "YYuCMeTgXGu1"
      }
    },
    {
      "cell_type": "markdown",
      "source": [
        "The versions of the packages when working on the project are:  \n",
        "csv:&nbsp;&nbsp;&nbsp;&nbsp;&nbsp;&nbsp;&nbsp;&nbsp;1.0  \n",
        "sqlite3: &nbsp;3.31.1  \n",
        "pandas: 1.3.5"
      ],
      "metadata": {
        "id": "a53zP1QBb9UN"
      }
    },
    {
      "cell_type": "code",
      "source": [
        "print('The current version of the csv module is ' + csv.__version__)\n",
        "print('The current version of sqlite3 is ' + sqlite3.sqlite_version)\n",
        "print('The current version of pandas is ' + pd.__version__)"
      ],
      "metadata": {
        "id": "BkpNL2xVXNHX"
      },
      "execution_count": null,
      "outputs": []
    },
    {
      "cell_type": "markdown",
      "source": [
        "## Creating the database"
      ],
      "metadata": {
        "id": "V_rXYuqxZkPz"
      }
    },
    {
      "cell_type": "markdown",
      "source": [
        "Connect to the google drive"
      ],
      "metadata": {
        "id": "HwYdepn1Zu4h"
      }
    },
    {
      "cell_type": "code",
      "source": [
        "from google.colab import drive\n",
        "drive.mount(\"/content/drive\")\n",
        "\n",
        "print(f'The current working directory is:')\n",
        "!pwd"
      ],
      "metadata": {
        "id": "U3jkrkeoARKs"
      },
      "execution_count": null,
      "outputs": []
    },
    {
      "cell_type": "markdown",
      "source": [
        "Store the following paths in variables for later use"
      ],
      "metadata": {
        "id": "JXGLmvkpZ32v"
      }
    },
    {
      "cell_type": "code",
      "source": [
        "disease = 'metabolic_syndrome_disease'\n",
        "path_csv_files = f\"/content/drive/Shareddrives/TeamC/Material/csv_data/{disease}\"\n",
        "path_teamc = \"content/drive/Shareddrives/TeamC\""
      ],
      "metadata": {
        "id": "TvAViPbaAW1K"
      },
      "execution_count": null,
      "outputs": []
    },
    {
      "cell_type": "markdown",
      "source": [
        "Define a finction to create a database file and then run it."
      ],
      "metadata": {
        "id": "50ts9_TGaA-x"
      }
    },
    {
      "cell_type": "code",
      "source": [
        "# define a function to create a database file in the specified path\n",
        "\n",
        "def create_db_file(db_file):\n",
        "  # if the db file already exists, return a message that informs about it\n",
        "  if db_file:\n",
        "    print('file already exists')\n",
        "  else:\n",
        "    conn = None\n",
        "    try:\n",
        "      conn = sqlite3.connect(db_file) #if the file does not exist, it will be created\n",
        "      print('Everything went ok')\n",
        "    except Error as err:\n",
        "      print(err)\n",
        "    finally:\n",
        "      # close connection\n",
        "      if conn:\n",
        "        conn.close()\n",
        "\n",
        "# execute the function to connect to the database file and, in this case, \n",
        "# create an empty database file in die shared drive TeamC folder\n",
        "\n",
        "create_db_file(r'/content/drive/Shareddrives/TeamC/teamc_db.db')"
      ],
      "metadata": {
        "id": "W22ZVUvIT8ML"
      },
      "execution_count": null,
      "outputs": []
    },
    {
      "cell_type": "markdown",
      "source": [
        "## Explore the csv files"
      ],
      "metadata": {
        "id": "2Ob5-aX6aNBL"
      }
    },
    {
      "cell_type": "markdown",
      "source": [
        "Get a column list for every csv file"
      ],
      "metadata": {
        "id": "FCFPLa_haPUC"
      }
    },
    {
      "cell_type": "code",
      "source": [
        "# list of columns from a chosen csv file in the path_csv_files directory\n",
        "def column_list(csv_file_name):\n",
        "  with open(f'{path_csv_files}/{csv_file_name}') as csv_file:\n",
        "    reader_obj = csv.reader(csv_file, delimiter = ',')\n",
        "    for row in reader_obj:\n",
        "      columns_list = row\n",
        "      break\n",
        "  print(columns_list)\n",
        "\n",
        "# print the column list in the csv files\n",
        "list_csv = ['patients', 'careplans', 'organizations', 'payers', 'providers', 'encounters', 'conditions', \n",
        "            'devices', 'immunizations', 'medications', 'observations', 'payer_transitions', 'procedures']\n",
        "for n in list_csv:\n",
        "  column_list(f'{n}.csv')\n"
      ],
      "metadata": {
        "id": "9xbwBEQsEO31"
      },
      "execution_count": null,
      "outputs": []
    },
    {
      "cell_type": "markdown",
      "source": [
        "## Load the data to the dabatase"
      ],
      "metadata": {
        "id": "yIZjgcrOaXYh"
      }
    },
    {
      "cell_type": "markdown",
      "source": [
        "Create a function to connect to the database"
      ],
      "metadata": {
        "id": "jjpcGq4-atCq"
      }
    },
    {
      "cell_type": "code",
      "source": [
        "# define a function to create connection with the dababase\n",
        "\n",
        "def create_connection(db_file):\n",
        "\n",
        "  # if the specified file does not exist...:\n",
        "  if not db_file:\n",
        "    print('file not found')\n",
        "\n",
        "  try:\n",
        "    conn = sqlite3.connect(db_file)\n",
        "    return conn\n",
        "  except Error as err:\n",
        "    print(err)"
      ],
      "metadata": {
        "id": "1PQ_FwvqcpSF"
      },
      "execution_count": null,
      "outputs": []
    },
    {
      "cell_type": "markdown",
      "source": [
        "Store the connection object in a variable, then create a cursor and store it in a variable."
      ],
      "metadata": {
        "id": "XU3k5ut8a4qR"
      }
    },
    {
      "cell_type": "code",
      "source": [
        " # use the predefined function to create a connection with the db file and store\n",
        " # the connection object in a variable\n",
        "conn = create_connection('/content/drive/Shareddrives/TeamC/teamc_db.db')\n",
        "c = conn.cursor()"
      ],
      "metadata": {
        "id": "V9re18ftI2dl"
      },
      "execution_count": null,
      "outputs": []
    },
    {
      "cell_type": "markdown",
      "source": [
        "Drop the existing tables, if they exist"
      ],
      "metadata": {
        "id": "9B9HtpZLbBL_"
      }
    },
    {
      "cell_type": "code",
      "source": [
        "# in case the code is run more than once, now drop the existing tables\n",
        "for tab in list_csv:\n",
        "  c.execute(\n",
        "      f'''DROP TABLE IF EXISTS {tab}'''\n",
        "  )"
      ],
      "metadata": {
        "id": "xQ8-5tYrWTRC"
      },
      "execution_count": null,
      "outputs": []
    },
    {
      "cell_type": "markdown",
      "source": [
        "Create empty tables"
      ],
      "metadata": {
        "id": "biNknsNObEHw"
      }
    },
    {
      "cell_type": "code",
      "source": [
        "# Create table patients\n",
        "\n",
        "c.execute(\n",
        "    '''CREATE TABLE IF NOT EXISTS patients (\n",
        "      Id STRING PRIMARY KEY, \n",
        "      BIRTHDATE DATE, \n",
        "      DEATHDATE DATE,\n",
        "      SSN STRING,\n",
        "      DRIVERS STRING,\n",
        "      PASSPORT STRING,\n",
        "      PREFIX STRING,\n",
        "      FIRST STRING,\n",
        "      LAST STRING,\n",
        "      SUFFIX STRING,\n",
        "      MAIDEN STRING,\n",
        "      MARITAL STRING,\n",
        "      RACE STRING,\n",
        "      ETHNICITY STRING,\n",
        "      GENDER STRING,\n",
        "      BIRTHPLACE STRING,\n",
        "      ADDRESS STRING,\n",
        "      CITY STRING,\n",
        "      STATE STRING,\n",
        "      COUNTY STRING,\n",
        "      ZIP STRING,\n",
        "      LAT STRING,\n",
        "      LON STRING,\n",
        "      HEALTHCARE_EXPENSES INTEGER,\n",
        "      HEALTHCARE_COVERAGE INTEGER\n",
        "      )''' \n",
        "    )"
      ],
      "metadata": {
        "id": "qKAQDyd22I2H"
      },
      "execution_count": null,
      "outputs": []
    },
    {
      "cell_type": "code",
      "source": [
        "# create table organizations\n",
        "\n",
        "c.execute(\n",
        "    '''CREATE TABLE IF NOT EXISTS organizations (\n",
        "      Id STRING PRIMARY KEY,\n",
        "      NAME STRING,\n",
        "      ADDRESS STRING,\n",
        "      CITY STRING,\n",
        "      STATE STRING,\n",
        "      ZIP STRING,\n",
        "      LAT STRING,\n",
        "      LON STRING,\n",
        "      PHONE STRING,\n",
        "      REVENUE FLOAT, \n",
        "      UTILIZATION INTEGER\n",
        "    )'''\n",
        ")"
      ],
      "metadata": {
        "id": "fFi8SLgG-WO_"
      },
      "execution_count": null,
      "outputs": []
    },
    {
      "cell_type": "code",
      "source": [
        "# create table payers\n",
        "c.execute(\n",
        "    '''CREATE TABLE IF NOT EXISTS payers (\n",
        "      Id PRIMARY KEY,\n",
        "      NAME STRING,\n",
        "      ADDRESS STRING,\n",
        "      CITY STRING,\n",
        "      STATE_HEADQUARTERED STRING,\n",
        "      ZIP STRING,\n",
        "      PHONE STRING,\n",
        "      AMOUNT_COVERED FLOAT,\n",
        "      AMOUNT_UNCOVERED FLOAT,\n",
        "      REVENUE FLOAT,\n",
        "      COVERED_ENCOUNTERS INTEGER, \n",
        "      UNCOVERED_ENCOUNTERS INTEGER,\n",
        "      COVERED_MEDICATIONS INTEGER,\n",
        "      UNCOVERED_MEDICATIONS INTEGER,\n",
        "      COVERED_PROCEDURES INTEGER,\n",
        "      UNCOVERED_PROCEDURES INTEGER,\n",
        "      COVERED_IMMUNIZATIONS INTEGER,\n",
        "      UNCOVERED_IMMUNIZATIONS INTEGER,\n",
        "      UNIQUE_CUSTOMERS INTEGER,\n",
        "      QOLS_AVG REAL,\n",
        "      MEMBER_MONTHS INTEGER\n",
        "    )'''\n",
        ")"
      ],
      "metadata": {
        "id": "wOC7H0NSBImi"
      },
      "execution_count": null,
      "outputs": []
    },
    {
      "cell_type": "code",
      "source": [
        "# create table providers\n",
        "\n",
        "c.execute(\n",
        "    '''CREATE TABLE IF NOT EXISTS providers (\n",
        "      Id STRING PRIMARY KEY,\n",
        "      ORGANIZATION STRING, \n",
        "      NAME STRING,\n",
        "      GENDER STRING,\n",
        "      SPECIALITY STRING,\n",
        "      ADDRESS STRING,\n",
        "      CITY STRING,\n",
        "      STATE STRING,\n",
        "      ZIP STRING,\n",
        "      LAT STRING,\n",
        "      LON STRING,\n",
        "      UTILIZATION INTEGER,\n",
        "      FOREIGN KEY (ORGANIZATION) REFERENCES organizations (Id)\n",
        "    )'''\n",
        ")"
      ],
      "metadata": {
        "id": "NOUkGeSrDiz8"
      },
      "execution_count": null,
      "outputs": []
    },
    {
      "cell_type": "code",
      "source": [
        "# create table encounters\n",
        "\n",
        "c.execute(\n",
        "    '''CREATE TABLE IF NOT EXISTS encounters (\n",
        "      Id STRING PRIMARY KEY,\n",
        "      START DATE,\n",
        "      STOP DATE,\n",
        "      PATIENT STRING,\n",
        "      ORGANIZATION STRING,\n",
        "      PROVIDER STRING,\n",
        "      PAYER STRING,\n",
        "      ENCOUNTERCLASS STRING,\n",
        "      CODE STRING,\n",
        "      DESCRIPTION STRING,\n",
        "      BASE_ENCOUNTER_COST FLOAT,\n",
        "      TOTAL_CLAIM_COST FLOAT,\n",
        "      PAYER_COVERAGE FLOAT,\n",
        "      REASONCODE STRING,\n",
        "      REASONDESCRIPTION STRING,\n",
        "      FOREIGN KEY (PATIENT) REFERENCES patients (Id)\n",
        "      FOREIGN KEY (ORGANIZATION) REFERENCES organizations (Id)\n",
        "      FOREIGN KEY (PROVIDER) REFERENCES providers (Id)\n",
        "      FOREIGN KEY (PAYER) REFERENCES payers (Id)\n",
        "    )'''\n",
        ")"
      ],
      "metadata": {
        "id": "nAOIOqVwboYT"
      },
      "execution_count": null,
      "outputs": []
    },
    {
      "cell_type": "code",
      "source": [
        "# create table conditions\n",
        "\n",
        "c.execute(\n",
        "    '''CREATE TABLE IF NOT EXISTS conditions (\n",
        "      START DATE,\n",
        "      STOP DATE, \n",
        "      PATIENT STRING,\n",
        "      ENCOUNTER STRING,\n",
        "      CODE STRING,\n",
        "      DESCRIPTION STRING,\n",
        "      FOREIGN KEY (PATIENT) REFERENCES patients (Id)\n",
        "      FOREIGN KEY (ENCOUNTER) REFERENCES encounters (Id)\n",
        "    )'''\n",
        ")"
      ],
      "metadata": {
        "id": "Ozadfi1MdEQP"
      },
      "execution_count": null,
      "outputs": []
    },
    {
      "cell_type": "code",
      "source": [
        "# create table devices\n",
        "\n",
        "c. execute(\n",
        "    '''CREATE TABLE IF NOT EXISTS devices (\n",
        "      START DATE,\n",
        "      STOP DATE, \n",
        "      PATIENT STRING,\n",
        "      ENCOUNTER STRING,\n",
        "      CODE STRING,\n",
        "      DESCRIPTION STRING,\n",
        "      UDI STRING,\n",
        "      FOREIGN KEY (PATIENT) REFERENCES patients (Id)\n",
        "      FOREIGN KEY (ENCOUNTER) REFERENCES encounters (Id)\n",
        "    )'''\n",
        ")"
      ],
      "metadata": {
        "id": "nDMdREa-eU2_"
      },
      "execution_count": null,
      "outputs": []
    },
    {
      "cell_type": "code",
      "source": [
        "# create table careplans\n",
        "\n",
        "c.execute(\n",
        "    '''CREATE TABLE IF NOT EXISTS careplans (\n",
        "      Id STRING PRIMARY KEY,\n",
        "      START DATE,\n",
        "      STOP DATE,\n",
        "      PATIENT STRING,\n",
        "      ENCOUNTER STRING,\n",
        "      CODE STRING,\n",
        "      DESCRIPTION STRING,\n",
        "      REASONCODE STRING,\n",
        "      REASONDESCRIPTION STRING,\n",
        "      FOREIGN KEY (PATIENT) REFERENCES patients (Id)\n",
        "      FOREIGN KEY (ENCOUNTER) REFERENCES encounters (Id)\n",
        "    )'''\n",
        ")"
      ],
      "metadata": {
        "id": "3KZ98Aqa8d3l"
      },
      "execution_count": null,
      "outputs": []
    },
    {
      "cell_type": "code",
      "source": [
        "# create table immunizations\n",
        "\n",
        "c.execute(\n",
        "    '''CREATE TABLE IF NOT EXISTS immunizations (\n",
        "      DATE DATE,\n",
        "      PATIENT STRING,\n",
        "      ENCOUNTER STRING,\n",
        "      CODE STRING,\n",
        "      DESCRIPTION STRING,\n",
        "      BASE_COST INTEGER,\n",
        "      FOREIGN KEY (PATIENT) REFERENCES patients (Id)\n",
        "      FOREIGN KEY (ENCOUNTER) REFERENCES encounters (Id)\n",
        "    )'''\n",
        ")"
      ],
      "metadata": {
        "id": "t6bKoTTo8v6j"
      },
      "execution_count": null,
      "outputs": []
    },
    {
      "cell_type": "code",
      "source": [
        "#create table medications\n",
        "\n",
        "c.execute(\n",
        "    '''CREATE TABLE IF NOT EXISTS medications (\n",
        "      START DATE,\n",
        "      STOP DATE,\n",
        "      PATIENT STRING,\n",
        "      PAYER STRING,\n",
        "      ENCOUNTER STRING,\n",
        "      CODE STRING,\n",
        "      DESCRIPTION STRING,\n",
        "      BASE_COST INTEGER,\n",
        "      PAYER_COVERAGE FLOAT,\n",
        "      DISPENSES INTEGER,\n",
        "      TOTALCOST FLOAT,\n",
        "      REASONCODE STRING,\n",
        "      REASONDESCRIPTION STRING,\n",
        "      FOREIGN KEY (PATIENT) REFERENCES patients (Id)\n",
        "      FOREIGN KEY (PAYER) REFERENCES payers (Id)\n",
        "      FOREIGN KEY (ENCOUNTER) REFERENCES encounters (Id)\n",
        "    )'''\n",
        ")"
      ],
      "metadata": {
        "id": "dLiuylnnfyjX"
      },
      "execution_count": null,
      "outputs": []
    },
    {
      "cell_type": "code",
      "source": [
        "#create table observations\n",
        "\n",
        "c.execute(\n",
        "    '''CREATE TABLE IF NOT EXISTS observations (\n",
        "      DATE DATE,\n",
        "      PATIENT STRING,\n",
        "      ENCOUNTER STRING,\n",
        "      CODE STRING,\n",
        "      DESCRIPTION STRING,\n",
        "      VALUE FLOAT,\n",
        "      UNITS STRING,\n",
        "      TYPE STRING,\n",
        "      FOREIGN KEY (PATIENT) REFERENCES patients (Id)\n",
        "      FOREIGN KEY (ENCOUNTER) REFERENCES encounters (Id)\n",
        "    )'''\n",
        ")"
      ],
      "metadata": {
        "id": "AQ9WSVgmgyQc"
      },
      "execution_count": null,
      "outputs": []
    },
    {
      "cell_type": "code",
      "source": [
        "#create table payer transisions\n",
        "\n",
        "c.execute(\n",
        "    '''CREATE TABLE IF NOT EXISTS payer_transitions (\n",
        "      PATIENT STRING,\n",
        "      START_YEAR INTEGER,\n",
        "      END_YEAR INTEGER,\n",
        "      PAYER STRING,\n",
        "      OWNERSHIP STRING,\n",
        "      FOREIGN KEY (PATIENT) REFERENCES patients (Id)\n",
        "      FOREIGN KEY (PAYER) REFERENCES payers (Id)\n",
        "    )'''\n",
        ")"
      ],
      "metadata": {
        "id": "_7o93TAAhsd2"
      },
      "execution_count": null,
      "outputs": []
    },
    {
      "cell_type": "code",
      "source": [
        "# create table procedures\n",
        "\n",
        "c.execute(\n",
        "    '''CREATE TABLE IF NOT EXISTS procedures (\n",
        "      DATE DATE,\n",
        "      PATIENT STRING,\n",
        "      ENCOUNTER STRING,\n",
        "      CODE STRING,\n",
        "      DESCRIPTION STRING,\n",
        "      BASE_COST FLOAT,\n",
        "      REASONCODE STRING,\n",
        "      REASONDESCRIPTION STRING,\n",
        "      FOREIGN KEY (PATIENT) REFERENCES patients (Id)\n",
        "      FOREIGN KEY (ENCOUNTER) REFERENCES encounters (Id)\n",
        "    )'''\n",
        ")"
      ],
      "metadata": {
        "id": "HPhmr_YSivRn"
      },
      "execution_count": null,
      "outputs": []
    },
    {
      "cell_type": "markdown",
      "source": [
        "Using pandas, load the csv data into the database"
      ],
      "metadata": {
        "id": "lW78w1Z9bXGF"
      }
    },
    {
      "cell_type": "code",
      "source": [
        "# fill the tables\n",
        "# use a loop to pass all the table names to a pandas command\n",
        "for n in list_csv:\n",
        "  df = pd.read_csv(f'{path_csv_files}/{n}.csv')\n",
        "  df.to_sql(f'{n}', conn, if_exists = 'append', index = False)"
      ],
      "metadata": {
        "id": "kQ6FHHLjkbrk"
      },
      "execution_count": null,
      "outputs": []
    },
    {
      "cell_type": "markdown",
      "source": [
        "Print out a list of all the tables in the newly created database"
      ],
      "metadata": {
        "id": "4nQzbzpebbdz"
      }
    },
    {
      "cell_type": "code",
      "source": [
        "# list all tables in the db to check where they were created\n",
        "c.execute(\"SELECT name FROM sqlite_master WHERE type='table'\")\n",
        "print(c.fetchall())"
      ],
      "metadata": {
        "id": "zfBiY-SY1p63"
      },
      "execution_count": null,
      "outputs": []
    },
    {
      "cell_type": "markdown",
      "source": [
        "Create indexes on the observations most important in the project"
      ],
      "metadata": {
        "id": "nnXpfFOWbs7R"
      }
    },
    {
      "cell_type": "code",
      "source": [
        "# create index on the columns that we'll be most often using in our project\n",
        "c.execute('''CREATE INDEX index_patients ON patients (RACE, ETHNICITY, GENDER);''')\n",
        "c.execute('''CREATE INDEX index_conditions ON conditions (PATIENT, CODE);''')\n",
        "c.execute('''SELECT name FROM sqlite_master WHERE TYPE = 'index' ''')\n",
        "print(c.fetchall())"
      ],
      "metadata": {
        "id": "4_E77BbE2Uiw"
      },
      "execution_count": null,
      "outputs": []
    },
    {
      "cell_type": "markdown",
      "source": [
        "## Commit and close"
      ],
      "metadata": {
        "id": "461LAZ-ibybS"
      }
    },
    {
      "cell_type": "code",
      "source": [
        "conn.commit()\n",
        "conn.close()"
      ],
      "metadata": {
        "id": "DHQgdYf2YaWu"
      },
      "execution_count": null,
      "outputs": []
    }
  ]
}