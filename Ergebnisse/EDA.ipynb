{
  "nbformat": 4,
  "nbformat_minor": 0,
  "metadata": {
    "colab": {
      "provenance": [],
      "include_colab_link": true
    },
    "kernelspec": {
      "name": "python3",
      "display_name": "Python 3"
    }
  },
  "cells": [
    {
      "cell_type": "markdown",
      "metadata": {
        "id": "view-in-github",
        "colab_type": "text"
      },
      "source": [
        "<a href=\"https://colab.research.google.com/github/Fuenfgeld/DMA2023TeamC/blob/main/Ergebnisse/EDA.ipynb\" target=\"_parent\"><img src=\"https://colab.research.google.com/assets/colab-badge.svg\" alt=\"Open In Colab\"/></a>"
      ]
    },
    {
      "cell_type": "markdown",
      "metadata": {
        "id": "D8iykEnFwgGQ"
      },
      "source": [
        "# EDA\n",
        "Explorative Data Analysis\n",
        "\n"
      ]
    },
    {
      "cell_type": "markdown",
      "source": [
        "Reset the existing variables"
      ],
      "metadata": {
        "id": "xj5LNPvW5qFg"
      }
    },
    {
      "cell_type": "code",
      "source": [
        "%reset -f"
      ],
      "metadata": {
        "id": "TLc15aAk4CjM"
      },
      "execution_count": null,
      "outputs": []
    },
    {
      "cell_type": "code",
      "metadata": {
        "id": "TNfOtFMuEqVt"
      },
      "source": [
        "# install the newest version \n",
        "!pip3 install https://github.com/pandas-profiling/pandas-profiling/archive/master.zip\n"
      ],
      "execution_count": null,
      "outputs": []
    },
    {
      "cell_type": "markdown",
      "metadata": {
        "id": "f72lAeqGmSSy"
      },
      "source": [
        "# Importing Libraries"
      ]
    },
    {
      "cell_type": "code",
      "metadata": {
        "id": "mHakU94EcNVc"
      },
      "source": [
        "import pandas as pd\n",
        "import sqlite3\n",
        "import seaborn as sns\n",
        "import matplotlib\n",
        "import matplotlib.pyplot as plt\n",
        "import numpy as np\n",
        "from pandas_profiling import ProfileReport\n",
        "import pandas_profiling\n",
        "from pandas.util import hash_pandas_object"
      ],
      "execution_count": null,
      "outputs": []
    },
    {
      "cell_type": "code",
      "metadata": {
        "id": "puBBf4wrxn_y"
      },
      "source": [
        "# will make plot outputs appear and stored within the notebook.\n",
        "%matplotlib inline"
      ],
      "execution_count": null,
      "outputs": []
    },
    {
      "cell_type": "code",
      "metadata": {
        "id": "-042ss9IcbTC"
      },
      "source": [
        "from google.colab import drive\n",
        "# mount drive to access database\n",
        "drive.mount(\"/content/drive\")"
      ],
      "execution_count": null,
      "outputs": []
    },
    {
      "cell_type": "markdown",
      "source": [
        "### Version check"
      ],
      "metadata": {
        "id": "0WpbKVU19v7K"
      }
    },
    {
      "cell_type": "markdown",
      "source": [
        "The versions of the packages when working on the project are:  \n",
        "csv:&nbsp;&nbsp;&nbsp;&nbsp;&nbsp;&nbsp;&nbsp;&nbsp;1.0  \n",
        "sqlite3: &nbsp;3.31.1  \n",
        "numpy: &nbsp;1.21.6  \n",
        "matplotlib: 3.3.2  \n",
        "seaborn: 0.11.2  \n",
        "pandas_profiling: 1.4.1  \n",
        "pandas: 1.3.5\n",
        "\n",
        "Python: &nbsp;3.8.10"
      ],
      "metadata": {
        "id": "x2_iLzkO9plJ"
      }
    },
    {
      "cell_type": "code",
      "source": [
        "print('The current version of pandas is ' + pd.__version__)\n",
        "print('The current version of sqlite3 is ' + sqlite3.sqlite_version)\n",
        "print('The current version of seaborn is ' + sns.__version__)\n",
        "print('The current version of matplotlib is ' + matplotlib.__version__)\n",
        "print('The current version of numpy is ' + np.__version__)\n",
        "\n",
        "print('The current python version is ', end=' ')\n",
        "!python --version\n",
        "print('The current version of pandas_profiling is in the infobox below: ')\n",
        "!pip show pandas_profiling"
      ],
      "metadata": {
        "id": "Qcruwh_O9oFm"
      },
      "execution_count": null,
      "outputs": []
    },
    {
      "cell_type": "markdown",
      "metadata": {
        "id": "8BTwowldi9tx"
      },
      "source": [
        "\n",
        "# Loading Data\n"
      ]
    },
    {
      "cell_type": "code",
      "metadata": {
        "id": "SiSlnzFyboI_"
      },
      "source": [
        "# type of patient\n",
        "patient_type = \"metebolic_syndrome_disease\""
      ],
      "execution_count": null,
      "outputs": []
    },
    {
      "cell_type": "code",
      "metadata": {
        "id": "HzmmNYDbcnd7"
      },
      "source": [
        "# datawarehouse path\n",
        "DB_DWH_PATH = \"/content/drive/Shareddrives/TeamC/teamc_dwh.db\"\n",
        "print(\"Datawarehouse: \", DB_DWH_PATH)\n",
        "# connect to db\n",
        "dwh_conn = sqlite3.connect(DB_DWH_PATH)"
      ],
      "execution_count": null,
      "outputs": []
    },
    {
      "cell_type": "code",
      "metadata": {
        "id": "l3c3cyQocaXV"
      },
      "source": [
        "# list of tables in db\n",
        "if dwh_conn is not None:\n",
        "  dwh_cursor = dwh_conn.cursor()\n",
        "  dwh_cursor.execute(\"SELECT name FROM sqlite_master WHERE type='table';\")\n",
        "  print(\"List of Tables\", dwh_cursor.fetchall())\n"
      ],
      "execution_count": null,
      "outputs": []
    },
    {
      "cell_type": "code",
      "metadata": {
        "id": "r4Pk9g2SdmwO"
      },
      "source": [
        "# Read sqlite query results into a pandas DataFrame\n",
        "\n",
        "# demographic data\n",
        "df_patients = pd.read_sql_query(\"SELECT * FROM patients_info\", dwh_conn)\n",
        "\n",
        "# diagnoses data\n",
        "df_conditions = pd.read_sql_query(\"select * from conditions_info\", dwh_conn)\n",
        "\n",
        "# medications data\n",
        "df_medications = pd.read_sql_query(\"SELECT * FROM medications_info\", dwh_conn)\n",
        "\n",
        "# medications codes data\n",
        "df_med_codes = pd.read_sql_query(\"SELECT * FROM med_codes\", dwh_conn)\n",
        "\n",
        "# conditions codes data\n",
        "df_conditions_codes = pd.read_sql_query(\"SELECT * FROM conditions_codes\", dwh_conn)\n"
      ],
      "execution_count": null,
      "outputs": []
    },
    {
      "cell_type": "markdown",
      "source": [
        "## Check the Checksum in all the dataframes"
      ],
      "metadata": {
        "id": "bmxHXgHB9ZSN"
      }
    },
    {
      "cell_type": "code",
      "source": [
        "check_patients = df_patients.drop([\"Id\"], axis = 1, inplace = False)\n",
        "check_patients = hash_pandas_object(check_patients)"
      ],
      "metadata": {
        "id": "X8fBnIHa-Izz"
      },
      "execution_count": null,
      "outputs": []
    },
    {
      "cell_type": "code",
      "source": [
        "check_conditions = df_conditions.drop([\"PATIENT\"], axis = 1, inplace = False)\n",
        "check_conditions = hash_pandas_object(check_conditions)"
      ],
      "metadata": {
        "id": "GDl1Sf9I-4vO"
      },
      "execution_count": null,
      "outputs": []
    },
    {
      "cell_type": "code",
      "source": [
        "check_medications = df_medications.drop([\"PATIENT\"], axis = 1, inplace = False)\n",
        "check_medications = hash_pandas_object(check_medications)"
      ],
      "metadata": {
        "id": "4RAgm7Za-4mE"
      },
      "execution_count": null,
      "outputs": []
    },
    {
      "cell_type": "code",
      "source": [
        "check_medcodes = hash_pandas_object(df_med_codes)"
      ],
      "metadata": {
        "id": "Nwvi9iQn-4eD"
      },
      "execution_count": null,
      "outputs": []
    },
    {
      "cell_type": "code",
      "source": [
        "check_concodes = hash_pandas_object(df_conditions_codes)"
      ],
      "metadata": {
        "id": "Tl7O1Cjr-4PQ"
      },
      "execution_count": null,
      "outputs": []
    },
    {
      "cell_type": "code",
      "source": [
        "x = check_patients.sum() + check_conditions.sum() + check_medications.sum() + check_medcodes.sum() + check_concodes.sum()"
      ],
      "metadata": {
        "id": "dbDTW9hY_msa"
      },
      "execution_count": null,
      "outputs": []
    },
    {
      "cell_type": "code",
      "source": [
        "if x == 2633809765930772868:\n",
        "  print('The dataset is the same as in our analysis')"
      ],
      "metadata": {
        "id": "AAweOLWAAD-H"
      },
      "execution_count": null,
      "outputs": []
    },
    {
      "cell_type": "markdown",
      "source": [
        "## Close db connection"
      ],
      "metadata": {
        "id": "TbKBX8fbAHLx"
      }
    },
    {
      "cell_type": "code",
      "metadata": {
        "id": "KpVlnD4otd6J"
      },
      "source": [
        "# close db connection\n",
        "dwh_conn.close()"
      ],
      "execution_count": null,
      "outputs": []
    },
    {
      "cell_type": "markdown",
      "metadata": {
        "id": "oTF4SC_RjLoX"
      },
      "source": [
        "\n",
        "# Exploratory Data Analysis (EDA)\n"
      ]
    },
    {
      "cell_type": "code",
      "metadata": {
        "id": "KEkYBLlBmg_w"
      },
      "source": [
        "ProfileReport(df_patients)"
      ],
      "execution_count": null,
      "outputs": []
    },
    {
      "cell_type": "code",
      "metadata": {
        "id": "MxeDazY7Y5Ga"
      },
      "source": [
        "df_patients.head()"
      ],
      "execution_count": null,
      "outputs": []
    },
    {
      "cell_type": "code",
      "metadata": {
        "id": "NruNCEjhiNk3"
      },
      "source": [
        "df_patients.columns"
      ],
      "execution_count": null,
      "outputs": []
    },
    {
      "cell_type": "code",
      "metadata": {
        "id": "AH35T0dovuVf"
      },
      "source": [
        "df_patients.shape"
      ],
      "execution_count": null,
      "outputs": []
    },
    {
      "cell_type": "code",
      "metadata": {
        "id": "JcOp2xGHfEzp"
      },
      "source": [
        "# # replacing blank values (with space) with NAN\n",
        "df_patients = df_patients.replace(r'^\\s*$', np.nan, regex=True)"
      ],
      "execution_count": null,
      "outputs": []
    },
    {
      "cell_type": "code",
      "metadata": {
        "id": "OrlrIC0YjPfQ"
      },
      "source": [
        "df_patients.isnull().sum()"
      ],
      "execution_count": null,
      "outputs": []
    },
    {
      "cell_type": "code",
      "metadata": {
        "id": "4DavKytVkz2g"
      },
      "source": [
        "df_patients.DEATHDATE.isnull().sum()"
      ],
      "execution_count": null,
      "outputs": []
    },
    {
      "cell_type": "code",
      "metadata": {
        "id": "iwtK0nvtjFRj"
      },
      "source": [
        "# fill nall values with todays date\n",
        "df_patients[\"DEATHDATE\"] = df_patients.DEATHDATE.fillna(pd.to_datetime(\"today\"))\n",
        "# convert to datetime\n",
        "df_patients[\"DEATHDATE\"] = pd.to_datetime(df_patients[\"DEATHDATE\"])\n",
        "df_patients[\"BIRTHDATE\"] = pd.to_datetime(df_patients[\"BIRTHDATE\"])\n",
        "\n",
        "# # calculate age \n",
        "df_patients[\"AGE\"] = df_patients.DEATHDATE.dt.year - df_patients.BIRTHDATE.dt.year\n",
        "## select variables\n",
        "df_patients = df_patients[[\"Id\", \"AGE\", \"ETHNICITY\", \"RACE\"]]\n",
        "\n"
      ],
      "execution_count": null,
      "outputs": []
    },
    {
      "cell_type": "code",
      "metadata": {
        "id": "9PuZ3w4ajFVz"
      },
      "source": [
        "df_patients.head()\n"
      ],
      "execution_count": null,
      "outputs": []
    },
    {
      "cell_type": "code",
      "metadata": {
        "id": "cx81hEM0m32Q"
      },
      "source": [
        "df_conditions.head()"
      ],
      "execution_count": null,
      "outputs": []
    },
    {
      "cell_type": "code",
      "metadata": {
        "id": "7WMhs91OdcZx"
      },
      "source": [
        "ProfileReport(df_conditions)"
      ],
      "execution_count": null,
      "outputs": []
    },
    {
      "cell_type": "code",
      "metadata": {
        "id": "I3s93oXCcVty"
      },
      "source": [
        "# rename some columns for clarification\n",
        "df_conditions.rename(columns={\"CODE\": \"CODE_CONDITION\", \"START\": \"START_CONDITION\", \"STOP\" : \"STOP_CONDITION\"}, inplace=True)\n",
        "\n",
        "# replacing blank values (with space) with NAN\n",
        "df_conditions = df_conditions.replace(r'^\\s*$', np.nan, regex=True)\n",
        "\n",
        "# fill null values\n",
        "df_conditions[\"STOP_CONDITION\"] = df_conditions.STOP_CONDITION.fillna(pd.to_datetime(\"today\"))\n",
        "\n",
        "# convert to datetime\n",
        "df_conditions[\"START_CONDITION\"] = pd.to_datetime(df_conditions[\"START_CONDITION\"])\n",
        "df_conditions[\"STOP_CONDITION\"] = pd.to_datetime(df_conditions[\"STOP_CONDITION\"])\n",
        "\n",
        "# calculate duration of a diagnose\n",
        "df_conditions[\"DURATION_CONDITION\"] = df_conditions.STOP_CONDITION.dt.to_period(\"M\").astype(int) - df_conditions.START_CONDITION.dt.to_period(\"M\").astype(int)\n",
        "\n",
        "# remove unnecessary variables\n",
        "#df_conditions.drop(['START', 'STOP'], axis=1, inplace=True)"
      ],
      "execution_count": null,
      "outputs": []
    },
    {
      "cell_type": "code",
      "metadata": {
        "id": "H0W9d55Onuv2"
      },
      "source": [
        "df_conditions.shape"
      ],
      "execution_count": null,
      "outputs": []
    },
    {
      "cell_type": "code",
      "metadata": {
        "id": "3BTjUe1QcPea"
      },
      "source": [
        "# join two datasets\n",
        "df = pd.DataFrame.merge(df_patients, df_conditions, left_on=\"Id\", right_on=\"PATIENT\", how=\"left\")\n",
        "df.drop(\"PATIENT\", axis=1, inplace=True)\n",
        "df.shape"
      ],
      "execution_count": null,
      "outputs": []
    },
    {
      "cell_type": "code",
      "metadata": {
        "id": "SueHu--GoDp1"
      },
      "source": [
        "df.head()"
      ],
      "execution_count": null,
      "outputs": []
    },
    {
      "cell_type": "code",
      "metadata": {
        "id": "VGwiUQnmvsQA"
      },
      "source": [
        "ProfileReport(df_medications)"
      ],
      "execution_count": null,
      "outputs": []
    },
    {
      "cell_type": "code",
      "metadata": {
        "id": "7WvS66uBqk_5"
      },
      "source": [
        "df_medications.head()"
      ],
      "execution_count": null,
      "outputs": []
    },
    {
      "cell_type": "code",
      "metadata": {
        "id": "wcaK3Rqkqvti"
      },
      "source": [
        "# rename variables\n",
        "df_medications.rename(columns={\"CODE\":\"CODE_MEDICATION\",\n",
        "                               \"START\" : \"START_MEDICATION\",\n",
        "                               \"STOP\" : \"STOP_MEDICATION\"}, inplace=True)\n",
        "\n",
        "\n",
        "# replacing blank values (with space) with NAN\n",
        "df_medications = df_medications.replace(r'^\\s*$', np.nan, regex=True)\n",
        "\n",
        "# fill null values\n",
        "df_medications[\"STOP_MEDICATION\"] = df_medications.STOP_MEDICATION.fillna(pd.to_datetime(\"today\"))\n",
        "\n",
        "# convert to datetime\n",
        "df_medications[\"START_MEDICATION\"] = pd.to_datetime(df_medications[\"START_MEDICATION\"])\n",
        "df_medications[\"STOP_MEDICATION\"] = pd.to_datetime(df_medications[\"STOP_MEDICATION\"])\n",
        "\n",
        "# calculate duration of a diagnose\n",
        "df_medications[\"DURATION_MEDICATION\"] = df_medications.STOP_MEDICATION.dt.to_period(\"M\").astype(int) - df_medications.START_MEDICATION.dt.to_period(\"M\").astype(int)"
      ],
      "execution_count": null,
      "outputs": []
    },
    {
      "cell_type": "code",
      "metadata": {
        "id": "TP7SEvgOqyCV"
      },
      "source": [
        "df = pd.DataFrame.merge(df, df_medications, left_on=\"Id\", right_on=\"PATIENT\", how=\"left\")\n",
        "df.drop(\"PATIENT\", axis=1, inplace=True)\n",
        "df.shape"
      ],
      "execution_count": null,
      "outputs": []
    },
    {
      "cell_type": "code",
      "source": [
        "ProfileReport(df_med_codes)"
      ],
      "metadata": {
        "id": "chqSAiQau-zm"
      },
      "execution_count": null,
      "outputs": []
    },
    {
      "cell_type": "code",
      "source": [
        "df_med_codes.columns"
      ],
      "metadata": {
        "id": "xydrtCnDyjnH"
      },
      "execution_count": null,
      "outputs": []
    },
    {
      "cell_type": "code",
      "source": [
        "df_med_codes.shape"
      ],
      "metadata": {
        "id": "czhWKWvCypUz"
      },
      "execution_count": null,
      "outputs": []
    },
    {
      "cell_type": "code",
      "source": [
        "# rename variables\n",
        "df_med_codes.rename(columns={\"DESCRIPTION\" : \"DESCRIPTION_MEDICATION\"}, inplace=True)"
      ],
      "metadata": {
        "id": "asRtgmpD6izk"
      },
      "execution_count": null,
      "outputs": []
    },
    {
      "cell_type": "code",
      "source": [
        "# join two datasets\n",
        "df = pd.DataFrame.merge(df, df_med_codes, left_on=\"CODE_MEDICATION\", right_on=\"CODE\", how=\"left\")\n",
        "df.drop(\"CODE\", axis=1, inplace=True)\n",
        "df.shape"
      ],
      "metadata": {
        "id": "dDxK_P9SzD_P"
      },
      "execution_count": null,
      "outputs": []
    },
    {
      "cell_type": "code",
      "source": [
        "ProfileReport(df_conditions_codes)"
      ],
      "metadata": {
        "id": "hQs2MwNjzwLk"
      },
      "execution_count": null,
      "outputs": []
    },
    {
      "cell_type": "code",
      "source": [
        "df_conditions_codes.head(5)"
      ],
      "metadata": {
        "id": "optumEJrz-yM"
      },
      "execution_count": null,
      "outputs": []
    },
    {
      "cell_type": "code",
      "source": [
        "df_conditions_codes.shape"
      ],
      "metadata": {
        "id": "383xTYoE0MtX"
      },
      "execution_count": null,
      "outputs": []
    },
    {
      "cell_type": "code",
      "source": [
        "df_conditions_codes.columns"
      ],
      "metadata": {
        "id": "mTrq7QAN0P0R"
      },
      "execution_count": null,
      "outputs": []
    },
    {
      "cell_type": "code",
      "source": [
        "# rename variables\n",
        "df_conditions_codes.rename(columns={\"DESCRIPTION\" : \"DESCRIPTION_CONDITION\"}, inplace=True)"
      ],
      "metadata": {
        "id": "T25NzE256y19"
      },
      "execution_count": null,
      "outputs": []
    },
    {
      "cell_type": "code",
      "source": [
        "# join two datasets\n",
        "df = pd.DataFrame.merge(df, df_conditions_codes, left_on=\"CODE_CONDITION\", right_on=\"CODE\", how=\"left\")\n",
        "df.drop(\"CODE\", axis=1, inplace=True)\n",
        "df.shape"
      ],
      "metadata": {
        "id": "vGfD18Se0TKZ"
      },
      "execution_count": null,
      "outputs": []
    },
    {
      "cell_type": "markdown",
      "metadata": {
        "id": "Pkr45V79nIYF"
      },
      "source": [
        "## Understanding Data/Basic Data Exploration\n"
      ]
    },
    {
      "cell_type": "code",
      "metadata": {
        "id": "lK0LXxAAeB5i"
      },
      "source": [
        "# .head() returns the first 5 rows of my dataset. This is useful if you want to see some example values for each variable.\n",
        "df.head()"
      ],
      "execution_count": null,
      "outputs": []
    },
    {
      "cell_type": "code",
      "metadata": {
        "id": "wu4gAaCVqhJb"
      },
      "source": [
        "# .shape returns the number of rows by the number of columns\n",
        "#size of dataset\n",
        "df.shape"
      ],
      "execution_count": null,
      "outputs": []
    },
    {
      "cell_type": "code",
      "metadata": {
        "id": "TIO9Yf9-vhF6"
      },
      "source": [
        "# .columns returns the name of all of your columns in the dataset.\n",
        "df.columns"
      ],
      "execution_count": null,
      "outputs": []
    },
    {
      "cell_type": "code",
      "metadata": {
        "id": "Kp7F79sFlNUy"
      },
      "source": [
        "# attribute type\n",
        "df.info()"
      ],
      "execution_count": null,
      "outputs": []
    },
    {
      "cell_type": "code",
      "metadata": {
        "id": "tsVt0s9FniM3"
      },
      "source": [
        "# .describe summarizes the count, mean, standard deviation, min, and max for numerical variables.\n",
        "df.describe()"
      ],
      "execution_count": null,
      "outputs": []
    },
    {
      "cell_type": "code",
      "metadata": {
        "id": "Txjvbmc_wC-C"
      },
      "source": [
        "# .nunique(axis=0) returns the number of unique values for each variable.\n",
        "df.nunique(axis=0)\n"
      ],
      "execution_count": null,
      "outputs": []
    },
    {
      "cell_type": "markdown",
      "metadata": {
        "id": "Rh_OWI58q62t"
      },
      "source": [
        "## Cleaning Dataset\n"
      ]
    },
    {
      "cell_type": "markdown",
      "metadata": {
        "id": "TKmjieWyrHOC"
      },
      "source": [
        "### Removing Duplicate Rows\n"
      ]
    },
    {
      "cell_type": "code",
      "metadata": {
        "id": "oz6AoBaOq2tK"
      },
      "source": [
        "print(\"Number of Duplicated Rows\", df.duplicated(df.columns).sum())"
      ],
      "execution_count": null,
      "outputs": []
    },
    {
      "cell_type": "markdown",
      "metadata": {
        "id": "6e8aBuH4-gsV"
      },
      "source": [
        "### Removing Missing Values"
      ]
    },
    {
      "cell_type": "markdown",
      "source": [
        "For the purposes of our research question the missing value rows stay.\n",
        "the missing value rows mean, the patient has no conditions or doesn't take any medication."
      ],
      "metadata": {
        "id": "fS7vS7udggra"
      }
    },
    {
      "cell_type": "code",
      "metadata": {
        "id": "pprSscZkq-WA"
      },
      "source": [
        "# number of null values in each column\n",
        "df.isnull().sum()"
      ],
      "execution_count": null,
      "outputs": []
    },
    {
      "cell_type": "code",
      "metadata": {
        "id": "OPZFcdiR0AAs"
      },
      "source": [
        "# for the purposes of our reseatch question the missing value rows stay.\n",
        "# the missing value rows mean, the patient has no additional conditions or doesn't take\n",
        "# any medication.\n"
      ],
      "execution_count": null,
      "outputs": []
    },
    {
      "cell_type": "markdown",
      "metadata": {
        "id": "hiePHzzw_nMe"
      },
      "source": [
        "## Univariate Analysis"
      ]
    },
    {
      "cell_type": "markdown",
      "metadata": {
        "id": "xUXFZZEMuKFl"
      },
      "source": [
        "### Grouping"
      ]
    },
    {
      "cell_type": "markdown",
      "source": [
        "Get the number of elements per group using .size method"
      ],
      "metadata": {
        "id": "lOfLEAqS69A0"
      }
    },
    {
      "cell_type": "code",
      "metadata": {
        "id": "Cje1waC5kUcN"
      },
      "source": [
        "# number of patients in procedure table\n",
        "df.groupby([\"Id\"]).size()"
      ],
      "execution_count": null,
      "outputs": []
    },
    {
      "cell_type": "code",
      "metadata": {
        "id": "PajN4ImhlGLO"
      },
      "source": [
        "df.groupby([\"Id\", \"CODE_CONDITION\"]).size()"
      ],
      "execution_count": null,
      "outputs": []
    },
    {
      "cell_type": "code",
      "metadata": {
        "id": "cFPgJMIxSjBw"
      },
      "source": [
        "df.groupby([\"Id\", \"CODE_MEDICATION\"]).size()"
      ],
      "execution_count": null,
      "outputs": []
    },
    {
      "cell_type": "markdown",
      "source": [
        "Now we'll group the patients and sum up the amount of their different medication and conditions."
      ],
      "metadata": {
        "id": "4NCQgiQz8cQ6"
      }
    },
    {
      "cell_type": "code",
      "source": [
        "pat_med = pd.DataFrame.merge(df_patients, df_medications, left_on=\"Id\", right_on=\"PATIENT\", how=\"left\")\n",
        "pat_med.drop(\"PATIENT\", axis=1, inplace=True)\n",
        "\n",
        "moddf_med= pat_med.groupby(['Id'])['CODE_MEDICATION'].count().reset_index(name = 'medications')\n",
        "moddf_med"
      ],
      "metadata": {
        "id": "gGiPuUdS7bO8"
      },
      "execution_count": null,
      "outputs": []
    },
    {
      "cell_type": "code",
      "source": [
        "pat_con = pd.DataFrame.merge(df_patients, df_conditions, left_on=\"Id\", right_on=\"PATIENT\", how=\"left\")\n",
        "pat_con.drop(\"PATIENT\", axis=1, inplace=True)\n",
        "\n",
        "\n",
        "moddf = pat_con.groupby(['Id'])['CODE_CONDITION'].count().reset_index(name = 'additional_conditions')\n",
        "\n",
        "moddf"
      ],
      "metadata": {
        "id": "joBdmdnmMOJA"
      },
      "execution_count": null,
      "outputs": []
    },
    {
      "cell_type": "markdown",
      "metadata": {
        "id": "HZJrKDhmlRzu"
      },
      "source": [
        "For some patients, there are more than one diagnose code and medication code. However, for the most, the number of additional conditions, as well as the number of different drugs, seems to be 0.\n",
        "\n",
        "\n",
        "\n"
      ]
    },
    {
      "cell_type": "markdown",
      "source": [
        "# Plotting the data"
      ],
      "metadata": {
        "id": "8npz0dhKEu4-"
      }
    },
    {
      "cell_type": "markdown",
      "metadata": {
        "id": "iTPB7aU5sAaB"
      },
      "source": [
        "## Histogram\n",
        "\n"
      ]
    },
    {
      "cell_type": "markdown",
      "source": [
        "Now the amount of different additional conditions will be plotted on a histogram. The following bars show the amount of patients having a specified number of additional conditions."
      ],
      "metadata": {
        "id": "roLIpRWb845L"
      }
    },
    {
      "cell_type": "code",
      "metadata": {
        "id": "w4x0mMw_YO7q"
      },
      "source": [
        "moddf.plot.hist(figsize=(12,6), facecolor='grey',edgecolor='black', bins = 10)\n",
        "\n"
      ],
      "execution_count": null,
      "outputs": []
    },
    {
      "cell_type": "markdown",
      "source": [
        "As is to be seen above, the bulk of the patients do not have any accompanying conditions. Now, the very same histogram after dropping the ones with 0, just for better clarity."
      ],
      "metadata": {
        "id": "1NLCNLjWdMCm"
      }
    },
    {
      "cell_type": "code",
      "source": [
        "moddf = moddf[moddf['additional_conditions'] > 0]\n",
        "moddf.plot.hist(figsize=(12,6), facecolor='grey',edgecolor='black')"
      ],
      "metadata": {
        "id": "6K-XXL54dbgq"
      },
      "execution_count": null,
      "outputs": []
    },
    {
      "cell_type": "markdown",
      "source": [
        "Now the amount of different medications will be plotted on a histogram. The following bars show the amount of patients having a specified number of medications."
      ],
      "metadata": {
        "id": "ECulBw7K99W9"
      }
    },
    {
      "cell_type": "code",
      "source": [
        "moddf_med.plot.hist(figsize=(12,6), facecolor='grey',edgecolor='black', bins = 10)"
      ],
      "metadata": {
        "id": "wsSCSo6I-Ga5"
      },
      "execution_count": null,
      "outputs": []
    },
    {
      "cell_type": "markdown",
      "source": [
        "And again, just for clarity, now the same histogram after dropping the patients with 0 medications"
      ],
      "metadata": {
        "id": "-Roixx4w-f2e"
      }
    },
    {
      "cell_type": "code",
      "source": [
        "moddf_med = moddf_med[moddf_med['medications'] > 0]\n",
        "moddf_med.plot.hist(figsize=(12,6), facecolor='grey',edgecolor='black')"
      ],
      "metadata": {
        "id": "_BBy1RTE-Zkv"
      },
      "execution_count": null,
      "outputs": []
    },
    {
      "cell_type": "markdown",
      "source": [
        "Now, for the purposes of our research question, the patients will be grouped according to their race and ethnicity. The number of people for each group will be shown."
      ],
      "metadata": {
        "id": "NMU3kkCEe-oV"
      }
    },
    {
      "cell_type": "code",
      "metadata": {
        "id": "gcW0gCqhBe9C"
      },
      "source": [
        "rac_eth = df_patients.groupby(['RACE', 'ETHNICITY'])['Id'].count().reset_index(name = 'count')\n",
        "\n",
        "rac_eth"
      ],
      "execution_count": null,
      "outputs": []
    },
    {
      "cell_type": "markdown",
      "source": [
        "The above data will now be shown on a histogram to visualize things."
      ],
      "metadata": {
        "id": "_0QkwdpV-1mr"
      }
    },
    {
      "cell_type": "code",
      "metadata": {
        "id": "x7xKOcfXB_0C"
      },
      "source": [
        "sns.countplot(data = df_patients, x = 'RACE', hue = 'ETHNICITY')"
      ],
      "execution_count": null,
      "outputs": []
    },
    {
      "cell_type": "markdown",
      "source": [
        "It is now clear, that some groups are much more represented that the others. What this means, is that it's possible, that some of the groups will be to small to enable proper analysis."
      ],
      "metadata": {
        "id": "4-p27s00_ZLA"
      }
    },
    {
      "cell_type": "markdown",
      "metadata": {
        "id": "X1___QvXDLt-"
      },
      "source": [
        "## Distribution of the 'race' value\n",
        "\n",
        "The following graph shows the ditribution of different 'race' values within the dataset."
      ]
    },
    {
      "cell_type": "code",
      "metadata": {
        "id": "tMyf_kfnDLuA"
      },
      "source": [
        "# distribution of RACE attribute\n",
        "sns.countplot(x=\"variable\", hue= \"value\", data=pd.melt(df[[\"RACE\"]]))"
      ],
      "execution_count": null,
      "outputs": []
    },
    {
      "cell_type": "markdown",
      "metadata": {
        "id": "GilLBWaEDU5I"
      },
      "source": [
        "## Distribution of the 'Ethnicity' value\n",
        "\n",
        "The following graph shows the ditribution of different 'ethnicity' values within the dataset."
      ]
    },
    {
      "cell_type": "code",
      "source": [
        "# distribution of ETHNICITY attribute\n",
        "sns.countplot(x=\"variable\", hue= \"value\", data=pd.melt(df[[\"ETHNICITY\"]]))"
      ],
      "metadata": {
        "id": "SjorCdQZDa7y"
      },
      "execution_count": null,
      "outputs": []
    },
    {
      "cell_type": "markdown",
      "source": [
        "### Average numbers of conditions and medications, Outliers\n",
        "Now new tables will be created with average number of conditions for every group of the above.\n",
        " \n",
        "First, it will be done with conditions and then with medications.\n",
        "\n",
        "Outliers will be dropped for better clarity od the analysis."
      ],
      "metadata": {
        "id": "16NQsuj5_AIp"
      }
    },
    {
      "cell_type": "code",
      "source": [
        "# mean conditions count when grouped by race and ethnicity\n",
        "\n",
        "meancon = pat_con[['Id', 'RACE', 'ETHNICITY', 'CODE_CONDITION']]\n",
        "\n",
        "#add a column to give sum of conditions per person\n",
        "meancon[\"con_count\"] = meancon.groupby('Id')[\"CODE_CONDITION\"].transform(\"count\")\n",
        "\n",
        "#drop the code_condition column\n",
        "meancon = meancon.drop(columns = 'CODE_CONDITION')\n",
        "\n",
        "#drop the duplicates\n",
        "meancon = meancon.drop_duplicates()\n",
        "\n",
        "#add a new column with the mean of conditions a patient in every group has\n",
        "meancon[\"mean_con\"] = meancon.groupby(['RACE', 'ETHNICITY'])[\"con_count\"].transform(\"mean\")\n",
        "\n",
        "#drop the Id and con_count columns\n",
        "meancon = meancon.drop(columns=['con_count', 'Id'])\n",
        "\n",
        "#drop the duplicates so that only the division in race and ethnicity remains, then sort\n",
        "meancon = meancon.drop_duplicates()\n",
        "meancon = meancon.sort_values(by = ['RACE', 'ETHNICITY'])\n",
        "meancon\n"
      ],
      "metadata": {
        "id": "WPiUQevTmdwJ"
      },
      "execution_count": null,
      "outputs": []
    },
    {
      "cell_type": "markdown",
      "source": [
        "It is clear, that the groups with **0 mean conditions** were simply too small for any additional condition to berecorded. Those need to be dropped"
      ],
      "metadata": {
        "id": "ovZN5faEAK6i"
      }
    },
    {
      "cell_type": "code",
      "source": [
        "# dropping the groups with 0 mean conditions\n",
        "\n",
        "meancon = meancon[(meancon.mean_con > 0)]\n",
        "meancon"
      ],
      "metadata": {
        "id": "0K_79j56ytsQ"
      },
      "execution_count": null,
      "outputs": []
    },
    {
      "cell_type": "markdown",
      "source": [
        "Now repeat the process for the medications to see what is the average number of meds that every group takes."
      ],
      "metadata": {
        "id": "XvpMLW1OAXsB"
      }
    },
    {
      "cell_type": "code",
      "source": [
        "meanmed = pat_med[['Id', 'RACE', 'ETHNICITY', 'CODE_MEDICATION']]\n",
        "\n",
        "#add a column to give sum of conditions per person\n",
        "meanmed[\"med_count\"] = meanmed.groupby('Id')[\"CODE_MEDICATION\"].transform(\"count\")\n",
        "\n",
        "#drop the code_condition column\n",
        "meanmed = meanmed.drop(columns = 'CODE_MEDICATION')\n",
        "\n",
        "#drop the duplicates\n",
        "meanmed = meanmed.drop_duplicates()\n",
        "\n",
        "#add a new column with the mean of conditions a patient in every group has\n",
        "meanmed[\"mean_med\"] = meanmed.groupby(['RACE', 'ETHNICITY'])[\"med_count\"].transform(\"mean\")\n",
        "\n",
        "#drop the Id and con_count columns\n",
        "meanmed = meanmed.drop(columns=['med_count', 'Id'])\n",
        "\n",
        "#drop the duplicates so that only the division in race and ethnicity remains, then sort\n",
        "meanmed = meanmed.drop_duplicates()\n",
        "meanmed = meanmed.sort_values(by = ['RACE', 'ETHNICITY'])\n",
        "meanmed"
      ],
      "metadata": {
        "id": "bt1zMwo7_6PN"
      },
      "execution_count": null,
      "outputs": []
    },
    {
      "cell_type": "markdown",
      "source": [
        "It is clear, that **the groups with 0 mean medications** were simply too small for any medication to be recorded. The **native nonhispanic group** is also an outlier, which can also be attributed to a too small\n",
        "patient group. Those groups need to be dropped"
      ],
      "metadata": {
        "id": "17uYZAXOAx-j"
      }
    },
    {
      "cell_type": "code",
      "source": [
        "# dropping the groups\n",
        "\n",
        "meanmed = meanmed[(meanmed.mean_med > 0) & (meanmed.mean_med != 1)]\n",
        "\n",
        "meanmed"
      ],
      "metadata": {
        "id": "_k6fOebSE11q"
      },
      "execution_count": null,
      "outputs": []
    },
    {
      "cell_type": "markdown",
      "source": [
        "## Mean additional conditions\n",
        "\n",
        "First, mean additional conditions will be plotted for every group (after dropping the most obvious outliers)"
      ],
      "metadata": {
        "id": "n8u-pKdBBjur"
      }
    },
    {
      "cell_type": "code",
      "source": [
        "# mean mconditions number plotted against race and ethnicity\n",
        "sns.catplot(data = meancon, x = 'RACE', y='mean_con', hue = 'ETHNICITY', kind='bar')"
      ],
      "metadata": {
        "id": "qa-6r-8YwUGu"
      },
      "execution_count": null,
      "outputs": []
    },
    {
      "cell_type": "markdown",
      "source": [
        "From the above graph it is clear, that because the hispanic ethnicity is only largely enough represented in the 'white' race, it cannot be used to answer the question on whether it influences the morbidity\n",
        "The 'native' race hat the highest average number of conditions, most possibly it's due to the underrepresentation of this group in the dataset."
      ],
      "metadata": {
        "id": "RvCaItNmCL2F"
      }
    },
    {
      "cell_type": "markdown",
      "source": [
        "## Mean medications\n",
        "\n",
        "Now, mean medications will be plotted for every group (after dropping the most obvious outliers)"
      ],
      "metadata": {
        "id": "Fd8EM_ciCYlM"
      }
    },
    {
      "cell_type": "code",
      "source": [
        "sns.catplot(data = meanmed, x = 'RACE', y='mean_med', hue = 'ETHNICITY', kind='bar')"
      ],
      "metadata": {
        "id": "0_lTQoRgGLWJ"
      },
      "execution_count": null,
      "outputs": []
    }
  ]
}