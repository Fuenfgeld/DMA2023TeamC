{
  "nbformat": 4,
  "nbformat_minor": 0,
  "metadata": {
    "colab": {
      "provenance": [],
      "authorship_tag": "ABX9TyMBkwJqD24X0+wNNrMJMPd6",
      "include_colab_link": true
    },
    "kernelspec": {
      "name": "python3",
      "display_name": "Python 3"
    },
    "language_info": {
      "name": "python"
    }
  },
  "cells": [
    {
      "cell_type": "markdown",
      "metadata": {
        "id": "view-in-github",
        "colab_type": "text"
      },
      "source": [
        "<a href=\"https://colab.research.google.com/github/Fuenfgeld/DMA2023TeamC/blob/main/creating_db.ipynb\" target=\"_parent\"><img src=\"https://colab.research.google.com/assets/colab-badge.svg\" alt=\"Open In Colab\"/></a>"
      ]
    },
    {
      "cell_type": "code",
      "execution_count": 88,
      "metadata": {
        "id": "LbHoCjKaAJ8I"
      },
      "outputs": [],
      "source": [
        "import csv\n",
        "import sqlite3\n",
        "from sqlite3 import Error\n",
        "import pandas as pd"
      ]
    },
    {
      "cell_type": "code",
      "source": [
        "from google.colab import drive\n",
        "drive.mount(\"/content/drive\")\n",
        "\n",
        "print(f'The current working directory is:')\n",
        "!pwd"
      ],
      "metadata": {
        "colab": {
          "base_uri": "https://localhost:8080/"
        },
        "id": "U3jkrkeoARKs",
        "outputId": "9b25dd96-9793-4fe5-d16f-997b177824b8"
      },
      "execution_count": 89,
      "outputs": [
        {
          "output_type": "stream",
          "name": "stdout",
          "text": [
            "Drive already mounted at /content/drive; to attempt to forcibly remount, call drive.mount(\"/content/drive\", force_remount=True).\n",
            "The current working directory is:\n",
            "/content\n"
          ]
        }
      ]
    },
    {
      "cell_type": "code",
      "source": [],
      "metadata": {
        "colab": {
          "base_uri": "https://localhost:8080/"
        },
        "id": "YWIXIsCT4VtB",
        "outputId": "4d16acc5-4b2b-4aa2-f3b1-a9a32263fac3"
      },
      "execution_count": 106,
      "outputs": [
        {
          "output_type": "stream",
          "name": "stdout",
          "text": [
            "['careplans.csv\\t   imaging_studies.csv\\tpayers.csv', 'careplans.gsheet   immunizations.csv\\tpayers.gsheet', 'conditions.csv\\t   medications.csv\\tpayer_transitions.csv', 'conditions.gsheet  medications.gsheet\\tprocedures.csv', 'devices.csv\\t   observations.csv\\tprocedures.gsheet', 'devices.gsheet\\t   observations.gsheet\\tproviders.csv', 'disease.csv\\t   organizations.csv\\tsupplies.csv', 'disease.gsheet\\t   patients.csv', 'encounters.csv\\t   patients.gsheet']\n"
          ]
        }
      ]
    },
    {
      "cell_type": "code",
      "source": [
        "disease = 'metabolic_syndrome_disease'\n",
        "path_csv_files = f\"/content/drive/Shareddrives/TeamC/Material/csv_data/{disease}\"\n",
        "path_teamc = \"content/drive/Shareddrives/TeamC\"\n",
        "\n",
        "\n"
      ],
      "metadata": {
        "id": "TvAViPbaAW1K"
      },
      "execution_count": null,
      "outputs": []
    },
    {
      "cell_type": "code",
      "source": [
        "# Create a database file\n",
        "# Based on https://www.sqlitetutorial.net/sqlite-python/creating-database/\n",
        "\n",
        "# define a function to create a database file in the specified path\n",
        "\n",
        "def create_db_file(db_file):\n",
        "  # if the db file already exists, return a message that informs about it\n",
        "  if db_file:\n",
        "    print('file already exists')\n",
        "  else:\n",
        "    conn = None\n",
        "    try:\n",
        "      conn = sqlite3.connect(db_file) #if the file does not exist, it will be created\n",
        "      print('Everything went ok')\n",
        "    except Error as err:\n",
        "      print(err)\n",
        "    finally:\n",
        "      # close connection\n",
        "      if conn:\n",
        "        conn.close()\n",
        "\n",
        "# execute the function to connect to the database file and, in this case, \n",
        "# create an empty database file in die shared drive TeamC folder\n",
        "\n",
        "create_db_file(r'/content/drive/Shareddrives/TeamC/teamc_db.db')"
      ],
      "metadata": {
        "colab": {
          "base_uri": "https://localhost:8080/"
        },
        "id": "W22ZVUvIT8ML",
        "outputId": "b0bb69f7-8846-45a4-b90d-1c9419e7f1d2"
      },
      "execution_count": 90,
      "outputs": [
        {
          "output_type": "stream",
          "name": "stdout",
          "text": [
            "file already exists\n"
          ]
        }
      ]
    },
    {
      "cell_type": "code",
      "source": [
        "# list of columns from a chosen csv file in the path_csv_files directory\n",
        "def column_list(csv_file_name):\n",
        "  with open(f'{path_csv_files}/{csv_file_name}') as csv_file:\n",
        "    reader_obj = csv.reader(csv_file, delimiter = ',')\n",
        "    for row in reader_obj:\n",
        "      columns_list = row\n",
        "      break\n",
        "  print(columns_list)\n",
        "\n",
        "# print the column list in the csv files\n",
        "list_csv = ['patients', 'careplans', 'organizations', 'payers', 'providers', 'encounters', 'conditions', \n",
        "            'devices', 'immunizations', 'medications', 'observations', 'payer_transitions', 'procedures']\n",
        "for n in list_csv:\n",
        "  column_list(f'{n}.csv')\n"
      ],
      "metadata": {
        "id": "9xbwBEQsEO31",
        "colab": {
          "base_uri": "https://localhost:8080/"
        },
        "outputId": "4646b4c5-8af5-49a1-facb-f046278d7e84"
      },
      "execution_count": 122,
      "outputs": [
        {
          "output_type": "stream",
          "name": "stdout",
          "text": [
            "['Id', 'BIRTHDATE', 'DEATHDATE', 'SSN', 'DRIVERS', 'PASSPORT', 'PREFIX', 'FIRST', 'LAST', 'SUFFIX', 'MAIDEN', 'MARITAL', 'RACE', 'ETHNICITY', 'GENDER', 'BIRTHPLACE', 'ADDRESS', 'CITY', 'STATE', 'COUNTY', 'ZIP', 'LAT', 'LON', 'HEALTHCARE_EXPENSES', 'HEALTHCARE_COVERAGE']\n",
            "['Id', 'START', 'STOP', 'PATIENT', 'ENCOUNTER', 'CODE', 'DESCRIPTION', 'REASONCODE', 'REASONDESCRIPTION']\n",
            "['Id', 'NAME', 'ADDRESS', 'CITY', 'STATE', 'ZIP', 'LAT', 'LON', 'PHONE', 'REVENUE', 'UTILIZATION']\n",
            "['Id', 'NAME', 'ADDRESS', 'CITY', 'STATE_HEADQUARTERED', 'ZIP', 'PHONE', 'AMOUNT_COVERED', 'AMOUNT_UNCOVERED', 'REVENUE', 'COVERED_ENCOUNTERS', 'UNCOVERED_ENCOUNTERS', 'COVERED_MEDICATIONS', 'UNCOVERED_MEDICATIONS', 'COVERED_PROCEDURES', 'UNCOVERED_PROCEDURES', 'COVERED_IMMUNIZATIONS', 'UNCOVERED_IMMUNIZATIONS', 'UNIQUE_CUSTOMERS', 'QOLS_AVG', 'MEMBER_MONTHS']\n",
            "['Id', 'ORGANIZATION', 'NAME', 'GENDER', 'SPECIALITY', 'ADDRESS', 'CITY', 'STATE', 'ZIP', 'LAT', 'LON', 'UTILIZATION']\n",
            "['Id', 'START', 'STOP', 'PATIENT', 'ORGANIZATION', 'PROVIDER', 'PAYER', 'ENCOUNTERCLASS', 'CODE', 'DESCRIPTION', 'BASE_ENCOUNTER_COST', 'TOTAL_CLAIM_COST', 'PAYER_COVERAGE', 'REASONCODE', 'REASONDESCRIPTION']\n",
            "['START', 'STOP', 'PATIENT', 'ENCOUNTER', 'CODE', 'DESCRIPTION']\n",
            "['START', 'STOP', 'PATIENT', 'ENCOUNTER', 'CODE', 'DESCRIPTION', 'UDI']\n",
            "['DATE', 'PATIENT', 'ENCOUNTER', 'CODE', 'DESCRIPTION', 'BASE_COST']\n",
            "['START', 'STOP', 'PATIENT', 'PAYER', 'ENCOUNTER', 'CODE', 'DESCRIPTION', 'BASE_COST', 'PAYER_COVERAGE', 'DISPENSES', 'TOTALCOST', 'REASONCODE', 'REASONDESCRIPTION']\n",
            "['DATE', 'PATIENT', 'ENCOUNTER', 'CODE', 'DESCRIPTION', 'VALUE', 'UNITS', 'TYPE']\n",
            "['PATIENT', 'START_YEAR', 'END_YEAR', 'PAYER', 'OWNERSHIP']\n",
            "['DATE', 'PATIENT', 'ENCOUNTER', 'CODE', 'DESCRIPTION', 'BASE_COST', 'REASONCODE', 'REASONDESCRIPTION']\n"
          ]
        }
      ]
    },
    {
      "cell_type": "code",
      "source": [
        "# define a function to create connection with the dababase\n",
        "\n",
        "def create_connection(db_file):\n",
        "\n",
        "  # if the specified file does not exist...:\n",
        "  if not db_file:\n",
        "    print('file not found')\n",
        "\n",
        "  try:\n",
        "    conn = sqlite3.connect(db_file)\n",
        "    return conn\n",
        "  except Error as err:\n",
        "    print(err)\n",
        "\n",
        "\n"
      ],
      "metadata": {
        "id": "1PQ_FwvqcpSF"
      },
      "execution_count": 92,
      "outputs": []
    },
    {
      "cell_type": "code",
      "source": [
        " # use the predefined function to create a connection with the db file and store\n",
        " # the connection object in a variable\n",
        "conn = create_connection('/content/drive/Shareddrives/TeamC/teamc_db.db')\n",
        "c = conn.cursor()"
      ],
      "metadata": {
        "id": "V9re18ftI2dl"
      },
      "execution_count": 145,
      "outputs": []
    },
    {
      "cell_type": "code",
      "source": [
        "# Create table patients\n",
        "\n",
        "c.execute(\n",
        "    '''CREATE TABLE IF NOT EXISTS patients (\n",
        "      Id STRING PRIMARY KEY, \n",
        "      BIRTHDATE DATE, \n",
        "      DEATHDATE DATE,\n",
        "      SSN STRING,\n",
        "      DRIVERS STRING,\n",
        "      PASSPORT STRING,\n",
        "      PREFIX STRING,\n",
        "      FIRST STRING,\n",
        "      LAST STRING,\n",
        "      SUFFIX STRING,\n",
        "      MAIDEN STRING,\n",
        "      MARITAL STRING,\n",
        "      RACE STRING,\n",
        "      ETHNICITY STRING,\n",
        "      GENDER STRING,\n",
        "      BIRTHPLACE STRING,\n",
        "      ADDRESS STRING,\n",
        "      CITY STRING,\n",
        "      STATE STRING,\n",
        "      COUNTY STRING,\n",
        "      ZIP STRING,\n",
        "      LAT STRING,\n",
        "      LON STRING,\n",
        "      HEALTHCARE_EXPENSES INTEGER,\n",
        "      HEALTHCARE_COVERAGE INTEGER\n",
        "      )''' \n",
        "    )"
      ],
      "metadata": {
        "colab": {
          "base_uri": "https://localhost:8080/"
        },
        "id": "qKAQDyd22I2H",
        "outputId": "7db369dd-b63e-436c-c2da-fac0902b1250"
      },
      "execution_count": 125,
      "outputs": [
        {
          "output_type": "execute_result",
          "data": {
            "text/plain": [
              "<sqlite3.Cursor at 0x7fab77955260>"
            ]
          },
          "metadata": {},
          "execution_count": 125
        }
      ]
    },
    {
      "cell_type": "code",
      "source": [
        "# create table organizations\n",
        "\n",
        "c.execute(\n",
        "    '''CREATE TABLE IF NOT EXISTS organizations (\n",
        "      Id STRING PRIMARY KEY,\n",
        "      NAME STRING,\n",
        "      ADDRESS STRING,\n",
        "      CITY STRING,\n",
        "      STATE STRING,\n",
        "      ZIP STRING,\n",
        "      LAT STRING,\n",
        "      LON STRING,\n",
        "      PHONE STRING,\n",
        "      REVENUE FLOAT, \n",
        "      UTILIZATION INTEGER\n",
        "    )'''\n",
        ")"
      ],
      "metadata": {
        "colab": {
          "base_uri": "https://localhost:8080/"
        },
        "id": "fFi8SLgG-WO_",
        "outputId": "2e1bf2be-5eb6-44e7-bc39-a7ec7f2afa20"
      },
      "execution_count": 126,
      "outputs": [
        {
          "output_type": "execute_result",
          "data": {
            "text/plain": [
              "<sqlite3.Cursor at 0x7fab77955260>"
            ]
          },
          "metadata": {},
          "execution_count": 126
        }
      ]
    },
    {
      "cell_type": "code",
      "source": [
        "# create table payers\n",
        "c.execute(\n",
        "    '''CREATE TABLE IF NOT EXISTS payers (\n",
        "      Id PRIMARY KEY,\n",
        "      NAME STRING,\n",
        "      ADDRESS STRING,\n",
        "      CITY STRING,\n",
        "      STATE_HEADQUARTERED STRING,\n",
        "      ZIP STRING,\n",
        "      PHONE STRING,\n",
        "      AMOUNT_COVERED FLOAT,\n",
        "      AMOUNT_UNCOVERED FLOAT,\n",
        "      REVENUE FLOAT,\n",
        "      COVERED_ENCOUNTERS INTEGER, \n",
        "      UNCOVERED_ENCOUNTERS INTEGER,\n",
        "      COVERED_MEDICATIONS INTEGER,\n",
        "      UNCOVERED_MEDICATIONS INTEGER,\n",
        "      COVERED_PROCEDURES INTEGER,\n",
        "      UNCOVERED_PROCEDURES INTEGER,\n",
        "      COVERED_IMMUNIZATIONS INTEGER,\n",
        "      UNCOVERED_IMMUNIZATIONS INTEGER,\n",
        "      UNIQUE_CUSTOMERS INTEGER,\n",
        "      QOLS_AVG REAL,\n",
        "      MEMBER_MONTHS INTEGER\n",
        "    )'''\n",
        ")"
      ],
      "metadata": {
        "colab": {
          "base_uri": "https://localhost:8080/"
        },
        "id": "wOC7H0NSBImi",
        "outputId": "b682f5e9-4b26-49c3-e2c3-83baa1c8a2e7"
      },
      "execution_count": 127,
      "outputs": [
        {
          "output_type": "execute_result",
          "data": {
            "text/plain": [
              "<sqlite3.Cursor at 0x7fab77955260>"
            ]
          },
          "metadata": {},
          "execution_count": 127
        }
      ]
    },
    {
      "cell_type": "code",
      "source": [
        "# create table providers\n",
        "\n",
        "c.execute(\n",
        "    '''CREATE TABLE IF NOT EXISTS providers (\n",
        "      Id STRING PRIMARY KEY,\n",
        "      ORGANIZATION STRING, \n",
        "      NAME STRING,\n",
        "      GENDER STRING,\n",
        "      SPECIALITY STRING,\n",
        "      ADDRESS STRING,\n",
        "      CITY STRING,\n",
        "      STATE STRING,\n",
        "      ZIP STRING,\n",
        "      LAT STRING,\n",
        "      LON STRING,\n",
        "      UTILIZATION INTEGER,\n",
        "      FOREIGN KEY (ORGANIZATION) REFERENCES organizations (Id)\n",
        "    )'''\n",
        ")"
      ],
      "metadata": {
        "colab": {
          "base_uri": "https://localhost:8080/"
        },
        "id": "NOUkGeSrDiz8",
        "outputId": "c56d72df-a298-485f-9d1d-43f4da001d82"
      },
      "execution_count": 128,
      "outputs": [
        {
          "output_type": "execute_result",
          "data": {
            "text/plain": [
              "<sqlite3.Cursor at 0x7fab77955260>"
            ]
          },
          "metadata": {},
          "execution_count": 128
        }
      ]
    },
    {
      "cell_type": "code",
      "source": [
        "# create table encounters\n",
        "\n",
        "c.execute(\n",
        "    '''CREATE TABLE IF NOT EXISTS encounters (\n",
        "      Id STRING PRIMARY KEY,\n",
        "      START DATE,\n",
        "      STOP DATE,\n",
        "      PATIENT STRING,\n",
        "      ORGANIZATION STRING,\n",
        "      PROVIDER STRING,\n",
        "      PAYER STRING,\n",
        "      ENCOUNTERCLASS STRING,\n",
        "      CODE STRING,\n",
        "      DESCRIPTION STRING,\n",
        "      BASE_ENCOUNTER_COST FLOAT,\n",
        "      TOTAL_CLAIM_COST FLOAT,\n",
        "      PAYER_COVERAGE FLOAT,\n",
        "      REASONCODE STRING,\n",
        "      REASONDESCRIPTION STRING,\n",
        "      FOREIGN KEY (PATIENT) REFERENCES patients (Id)\n",
        "      FOREIGN KEY (ORGANIZATION) REFERENCES organizations (Id)\n",
        "      FOREIGN KEY (PROVIDER) REFERENCES providers (Id)\n",
        "      FOREIGN KEY (PAYER) REFERENCES payers (Id)\n",
        "    )'''\n",
        ")"
      ],
      "metadata": {
        "colab": {
          "base_uri": "https://localhost:8080/"
        },
        "id": "nAOIOqVwboYT",
        "outputId": "7937961e-a24e-4831-c00b-0b2cb6c73e01"
      },
      "execution_count": 129,
      "outputs": [
        {
          "output_type": "execute_result",
          "data": {
            "text/plain": [
              "<sqlite3.Cursor at 0x7fab77955260>"
            ]
          },
          "metadata": {},
          "execution_count": 129
        }
      ]
    },
    {
      "cell_type": "code",
      "source": [
        "# create table conditions\n",
        "\n",
        "c.execute(\n",
        "    '''CREATE TABLE IF NOT EXISTS conditions (\n",
        "      START DATE,\n",
        "      STOP DATE, \n",
        "      PATIENT STRING,\n",
        "      ENCOUNTER STRING,\n",
        "      CODE STRING,\n",
        "      DESCRIPTION STRING,\n",
        "      FOREIGN KEY (PATIENT) REFERENCES patients (Id)\n",
        "      FOREIGN KEY (ENCOUNTER) REFERENCES encounters (Id)\n",
        "    )'''\n",
        ")"
      ],
      "metadata": {
        "colab": {
          "base_uri": "https://localhost:8080/"
        },
        "id": "Ozadfi1MdEQP",
        "outputId": "84e42544-09fc-420f-fa25-af362a404710"
      },
      "execution_count": 131,
      "outputs": [
        {
          "output_type": "execute_result",
          "data": {
            "text/plain": [
              "<sqlite3.Cursor at 0x7fab77955260>"
            ]
          },
          "metadata": {},
          "execution_count": 131
        }
      ]
    },
    {
      "cell_type": "code",
      "source": [
        "# create table devices\n",
        "\n",
        "c. execute(\n",
        "    '''CREATE TABLE IF NOT EXISTS devices (\n",
        "      START DATE,\n",
        "      STOP DATE, \n",
        "      PATIENT STRING,\n",
        "      ENCOUNTER STRING,\n",
        "      CODE STRING,\n",
        "      DESCRIPTION STRING,\n",
        "      UDI STRING,\n",
        "      FOREIGN KEY (PATIENT) REFERENCES patients (Id)\n",
        "      FOREIGN KEY (ENCOUNTER) REFERENCES encounters (Id)\n",
        "    )'''\n",
        ")"
      ],
      "metadata": {
        "colab": {
          "base_uri": "https://localhost:8080/"
        },
        "id": "nDMdREa-eU2_",
        "outputId": "5eeb84ec-f21a-49fd-f878-0f23355d89b7"
      },
      "execution_count": 132,
      "outputs": [
        {
          "output_type": "execute_result",
          "data": {
            "text/plain": [
              "<sqlite3.Cursor at 0x7fab77955260>"
            ]
          },
          "metadata": {},
          "execution_count": 132
        }
      ]
    },
    {
      "cell_type": "code",
      "source": [
        "# create table careplans\n",
        "\n",
        "c.execute(\n",
        "    '''CREATE TABLE IF NOT EXISTS careplans (\n",
        "      Id STRING PRIMARY KEY,\n",
        "      START DATE,\n",
        "      STOP DATE,\n",
        "      PATIENT STRING,\n",
        "      ENCOUNTER STRING,\n",
        "      CODE STRING,\n",
        "      DESCRIPTION STRING,\n",
        "      REASONCODE STRING,\n",
        "      REASONDESCRIPTION STRING,\n",
        "      FOREIGN KEY (PATIENT) REFERENCES patients (Id)\n",
        "      FOREIGN KEY (ENCOUNTER) REFERENCES encounters (Id)\n",
        "    )'''\n",
        ")"
      ],
      "metadata": {
        "colab": {
          "base_uri": "https://localhost:8080/"
        },
        "id": "3KZ98Aqa8d3l",
        "outputId": "2f4a0681-201b-4cf7-e515-8b033f87de0f"
      },
      "execution_count": 135,
      "outputs": [
        {
          "output_type": "execute_result",
          "data": {
            "text/plain": [
              "<sqlite3.Cursor at 0x7fab77955260>"
            ]
          },
          "metadata": {},
          "execution_count": 135
        }
      ]
    },
    {
      "cell_type": "code",
      "source": [
        "# create table immunizations\n",
        "\n",
        "c.execute(\n",
        "    '''CREATE TABLE IF NOT EXISTS immunizations (\n",
        "      DATE DATE,\n",
        "      PATIENT STRING,\n",
        "      ENCOUNTER STRING,\n",
        "      CODE STRING,\n",
        "      DESCRIPTION STRING,\n",
        "      BASE_COST INTEGER,\n",
        "      FOREIGN KEY (PATIENT) REFERENCES patients (Id)\n",
        "      FOREIGN KEY (ENCOUNTER) REFERENCES encounters (Id)\n",
        "    )'''\n",
        ")"
      ],
      "metadata": {
        "colab": {
          "base_uri": "https://localhost:8080/"
        },
        "id": "t6bKoTTo8v6j",
        "outputId": "e9aa45bf-2626-4c27-98e1-e19126a90365"
      },
      "execution_count": 136,
      "outputs": [
        {
          "output_type": "execute_result",
          "data": {
            "text/plain": [
              "<sqlite3.Cursor at 0x7fab77955260>"
            ]
          },
          "metadata": {},
          "execution_count": 136
        }
      ]
    },
    {
      "cell_type": "code",
      "source": [
        "#create table medications\n",
        "\n",
        "c.execute(\n",
        "    '''CREATE TABLE IF NOT EXISTS medications (\n",
        "      START DATE,\n",
        "      STOP DATE,\n",
        "      PATIENT STRING,\n",
        "      PAYER STRING,\n",
        "      ENCOUNTER STRING,\n",
        "      CODE STRING,\n",
        "      DESCRIPTION STRING,\n",
        "      BASE_COST INTEGER,\n",
        "      PAYER_COVERAGE FLOAT,\n",
        "      DISPENSES INTEGER,\n",
        "      TOTALCOST FLOAT,\n",
        "      REASONCODE STRING,\n",
        "      REASONDESCRIPTION STRING,\n",
        "      FOREIGN KEY (PATIENT) REFERENCES patients (Id)\n",
        "      FOREIGN KEY (PAYER) REFERENCES payers (Id)\n",
        "      FOREIGN KEY (ENCOUNTER) REFERENCES encounters (Id)\n",
        "    )'''\n",
        ")"
      ],
      "metadata": {
        "colab": {
          "base_uri": "https://localhost:8080/"
        },
        "id": "dLiuylnnfyjX",
        "outputId": "33bdfdc1-d24c-4577-a6cd-101a5c0734e6"
      },
      "execution_count": 137,
      "outputs": [
        {
          "output_type": "execute_result",
          "data": {
            "text/plain": [
              "<sqlite3.Cursor at 0x7fab77955260>"
            ]
          },
          "metadata": {},
          "execution_count": 137
        }
      ]
    },
    {
      "cell_type": "code",
      "source": [
        "#create table observations\n",
        "\n",
        "c.execute(\n",
        "    '''CREATE TABLE IF NOT EXISTS observations (\n",
        "      DATE DATE,\n",
        "      PATIENT STRING,\n",
        "      ENCOUNTER STRING,\n",
        "      CODE STRING,\n",
        "      DESCRIPTION STRING,\n",
        "      VALUE FLOAT,\n",
        "      UNITS STRING,\n",
        "      TYPE STRING,\n",
        "      FOREIGN KEY (PATIENT) REFERENCES patients (Id)\n",
        "      FOREIGN KEY (ENCOUNTER) REFERENCES encounters (Id)\n",
        "    )'''\n",
        ")"
      ],
      "metadata": {
        "colab": {
          "base_uri": "https://localhost:8080/"
        },
        "id": "AQ9WSVgmgyQc",
        "outputId": "386de6f8-d4e8-4f9e-bff8-713a983b9bac"
      },
      "execution_count": 138,
      "outputs": [
        {
          "output_type": "execute_result",
          "data": {
            "text/plain": [
              "<sqlite3.Cursor at 0x7fab77955260>"
            ]
          },
          "metadata": {},
          "execution_count": 138
        }
      ]
    },
    {
      "cell_type": "code",
      "source": [
        "#create table payer transisions\n",
        "\n",
        "c.execute(\n",
        "    '''CREATE TABLE IF NOT EXISTS payer_transitions (\n",
        "      PATIENT STRING,\n",
        "      START_YEAR INTEGER,\n",
        "      END_YEAR INTEGER,\n",
        "      PAYER STRING,\n",
        "      OWNERSHIP STRING,\n",
        "      FOREIGN KEY (PATIENT) REFERENCES patients (Id)\n",
        "      FOREIGN KEY (PAYER) REFERENCES payers (Id)\n",
        "    )'''\n",
        ")"
      ],
      "metadata": {
        "colab": {
          "base_uri": "https://localhost:8080/"
        },
        "id": "_7o93TAAhsd2",
        "outputId": "054202ad-0cc3-490c-af73-82c488a679d6"
      },
      "execution_count": 139,
      "outputs": [
        {
          "output_type": "execute_result",
          "data": {
            "text/plain": [
              "<sqlite3.Cursor at 0x7fab77955260>"
            ]
          },
          "metadata": {},
          "execution_count": 139
        }
      ]
    },
    {
      "cell_type": "code",
      "source": [
        "# create table procedures\n",
        "\n",
        "c.execute(\n",
        "    '''CREATE TABLE IF NOT EXISTS procedures (\n",
        "      DATE DATE,\n",
        "      PATIENT STRING,\n",
        "      ENCOUNTER STRING,\n",
        "      CODE STRING,\n",
        "      DESCRIPTION STRING,\n",
        "      BASE_COST FLOAT,\n",
        "      REASONCODE STRING,\n",
        "      REASONDESCRIPTION STRING,\n",
        "      FOREIGN KEY (PATIENT) REFERENCES patients (Id)\n",
        "      FOREIGN KEY (ENCOUNTER) REFERENCES encounters (Id)\n",
        "    )'''\n",
        ")"
      ],
      "metadata": {
        "colab": {
          "base_uri": "https://localhost:8080/"
        },
        "id": "HPhmr_YSivRn",
        "outputId": "8b1b2de4-5470-4a97-f68b-7405f5275284"
      },
      "execution_count": 140,
      "outputs": [
        {
          "output_type": "execute_result",
          "data": {
            "text/plain": [
              "<sqlite3.Cursor at 0x7fab77955260>"
            ]
          },
          "metadata": {},
          "execution_count": 140
        }
      ]
    },
    {
      "cell_type": "code",
      "source": [
        "# fill the tables\n",
        "for n in list_csv:\n",
        "  df = pd.read_csv(f'{path_csv_files}/{n}.csv')\n",
        "  df.to_sql(f'{n}', conn, if_exists = 'append', index = False)"
      ],
      "metadata": {
        "id": "kQ6FHHLjkbrk"
      },
      "execution_count": 141,
      "outputs": []
    },
    {
      "cell_type": "code",
      "source": [
        "# list all tables in the db\n",
        "c.execute(\"SELECT name FROM sqlite_master WHERE type='table'\")\n",
        "print(c.fetchall())"
      ],
      "metadata": {
        "colab": {
          "base_uri": "https://localhost:8080/"
        },
        "id": "zfBiY-SY1p63",
        "outputId": "8f52df39-5516-4703-c125-2cc63282d0dd"
      },
      "execution_count": 142,
      "outputs": [
        {
          "output_type": "stream",
          "name": "stdout",
          "text": [
            "[('patients',), ('organizations',), ('payers',), ('providers',), ('encounters',), ('conditions',), ('devices',), ('careplans',), ('immunizations',), ('medications',), ('observations',), ('payer_transitions',), ('procedures',)]\n"
          ]
        }
      ]
    },
    {
      "cell_type": "code",
      "source": [],
      "metadata": {
        "id": "mCJfW1rq2eNe"
      },
      "execution_count": 144,
      "outputs": []
    },
    {
      "cell_type": "code",
      "source": [
        "# create indices.............................."
      ],
      "metadata": {
        "id": "4_E77BbE2Uiw"
      },
      "execution_count": null,
      "outputs": []
    }
  ]
}